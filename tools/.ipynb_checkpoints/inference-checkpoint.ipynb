{
 "cells": [
  {
   "cell_type": "code",
   "execution_count": 2,
   "metadata": {},
   "outputs": [
    {
     "name": "stderr",
     "output_type": "stream",
     "text": [
      "Keyword arguments {'ignore_mismatched_sizes': True} are not expected by StableDiffusionImg2ImgPipeline and will be ignored.\n"
     ]
    },
    {
     "data": {
      "application/vnd.jupyter.widget-view+json": {
       "model_id": "9ef5e1954ddc48468a74ac14dc3b0698",
       "version_major": 2,
       "version_minor": 0
      },
      "text/plain": [
       "Loading pipeline components...:   0%|          | 0/7 [00:00<?, ?it/s]"
      ]
     },
     "metadata": {},
     "output_type": "display_data"
    },
    {
     "name": "stderr",
     "output_type": "stream",
     "text": [
      "Some weights of UNet2DConditionModel were not initialized from the model checkpoint at ./opt/run-overnight/unet and are newly initialized because the shapes did not match:\n",
      "- conv_in.weight: found shape torch.Size([320, 8, 3, 3]) in the checkpoint and torch.Size([320, 4, 3, 3]) in the model instantiated\n",
      "You should probably TRAIN this model on a down-stream task to be able to use it for predictions and inference.\n"
     ]
    }
   ],
   "source": [
    "import requests\n",
    "import torch\n",
    "from PIL import Image\n",
    "from io import BytesIO\n",
    "import os\n",
    "\n",
    "os.chdir(\"/home/ubuntu/4catalyzer-hackathon\")\n",
    "\n",
    "from diffusers import StableDiffusionImg2ImgPipeline\n",
    "\n",
    "device = \"cuda\"\n",
    "# model_id_or_path = \"runwayml/stable-diffusion-v1-5\"\n",
    "model_id_or_path = \"./opt/run-overnight\"\n",
    "pipe = StableDiffusionImg2ImgPipeline.from_pretrained(model_id_or_path, torch_dtype=torch.float16, low_cpu_mem_usage=False, ignore_mismatched_sizes=True)\n",
    "pipe = pipe.to(device)\n",
    "\n",
    "prompts = {\n",
    "    \"h2h\": \"This is an image of a normal brain MRI scan from axial view. It should be grey scale and clearly show brain structure. Do not modify the input image.\",\n",
    "    \"h2uh\": \"Given an input image of a normal brain MRI scan from axial view, modify the image by inserting a brain lesion within the MRI image. This brain lesion is caused by an ischaemic stroke. The lesion should appear relatively lighter compared to its surroundings brain tissue in the image.\",\n",
    "    \"uh2uhm\": \"Given an input image of an unhealthy brain MRI scan from axial view that contains brain lesions, modify the image to colour the lesions light red.\",\n",
    "    \"h2uhm\": \"Given an input image of a normal brain MRI scan from axial view, modify the image by inserting a brain lesion within the MRI image, and colour the lesions light red. This brain lesion is caused by an ischaemic stroke.\",\n",
    "    \"uhm2uhm\": \"This is an image of an unhealthy brain MRI scan from axial view that contains brain lesions. The lesions are coloured light red.\"\n",
    "}"
   ]
  },
  {
   "cell_type": "code",
   "execution_count": 8,
   "metadata": {},
   "outputs": [
    {
     "data": {
      "application/vnd.jupyter.widget-view+json": {
       "model_id": "5422369bfc184785a02ed8f1c93d6dd9",
       "version_major": 2,
       "version_minor": 0
      },
      "text/plain": [
       "  0%|          | 0/2 [00:00<?, ?it/s]"
      ]
     },
     "metadata": {},
     "output_type": "display_data"
    }
   ],
   "source": [
    "# # Assuming the 'data' folder is in the same directory as your script\n",
    "data_folder = \"./data/train/\"\n",
    "\n",
    "# # Replace 'sketch-mountains-input.jpg' with the actual filename if needed\n",
    "image_filename = 'healthy_images/sub-ON21834/caseON21834_dwi_slice_40.png'\n",
    "\n",
    "# Replace 'sketch-mountains-input.jpg' with the actual filename if needed\n",
    "# image_filename = 'lesion_images/sub-strokecase0002/case0002_dwi_slice_30.png'\n",
    "\n",
    "# Build the full path to the image file\n",
    "image_path = os.path.join(data_folder, image_filename)\n",
    "\n",
    "# Open and resize the image\n",
    "init_image = Image.open(image_path).convert(\"RGB\")\n",
    "# init_image = init_image.resize((768, 512))\n",
    "\n",
    "# prompt = prompts[\"h2uhm\"]\n",
    "prompt = \"modify the image by inserting a brain lesion within the MRI image, and highlight the brain lesion in red.\"\n",
    "\n",
    "images = pipe(prompt=prompt, image=init_image, strength=0.04, guidance_scale=7.5).images\n",
    "\n",
    "for idx, image in enumerate(images):\n",
    "    healthy_output_file = os.path.basename(image_filename)\n",
    "    output_path = f\"./viz/{healthy_output_file}\"\n",
    "    init_image.save(output_path)\n",
    "\n",
    "    pred_output_path = f\"./viz/{os.path.splitext(os.path.basename(image_filename))[0]}-generated-{idx}.jpg\"\n",
    "    image.save(pred_output_path)"
   ]
  },
  {
   "cell_type": "code",
   "execution_count": null,
   "metadata": {},
   "outputs": [],
   "source": []
  }
 ],
 "metadata": {
  "kernelspec": {
   "display_name": "Python 3",
   "language": "python",
   "name": "python3"
  },
  "language_info": {
   "codemirror_mode": {
    "name": "ipython",
    "version": 3
   },
   "file_extension": ".py",
   "mimetype": "text/x-python",
   "name": "python",
   "nbconvert_exporter": "python",
   "pygments_lexer": "ipython3",
   "version": "3.8.10"
  }
 },
 "nbformat": 4,
 "nbformat_minor": 2
}
